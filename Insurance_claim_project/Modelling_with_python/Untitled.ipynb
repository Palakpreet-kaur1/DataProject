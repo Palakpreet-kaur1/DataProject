{
 "cells": [
  {
   "cell_type": "code",
   "execution_count": 19,
   "id": "90041c79-eef4-436b-90ec-36a6b2f09a26",
   "metadata": {},
   "outputs": [],
   "source": [
    "# Set option to display all columns\n",
    "pd.set_option('display.max_columns', None)"
   ]
  },
  {
   "cell_type": "markdown",
   "id": "f91e2493-1318-4663-8806-1d00dac77968",
   "metadata": {},
   "source": [
    "## Import the libraries and dataset"
   ]
  },
  {
   "cell_type": "code",
   "execution_count": 48,
   "id": "8283fd66-4aa5-4131-a2eb-2350dd3e04c4",
   "metadata": {},
   "outputs": [],
   "source": [
    "import pandas as pd\n",
    "import numpy as np\n",
    "import matplotlib as plt\n",
    "from sklearn.model_selection import train_test_split\n",
    "\n",
    "# Load cleaned data\n",
    "df = pd.read_csv(\"insurance_cleaned.csv\")\n"
   ]
  },
  {
   "cell_type": "code",
   "execution_count": 50,
   "id": "79e7863e-3c21-429c-be92-428ac8ad2376",
   "metadata": {},
   "outputs": [
    {
     "data": {
      "text/plain": [
       "Index(['months_as_customer', 'age', 'policy_number', 'policy_bind_date',\n",
       "       'policy_state', 'policy_csl', 'policy_deductable',\n",
       "       'policy_annual_premium', 'umbrella_limit', 'insured_zip', 'insured_sex',\n",
       "       'insured_education_level', 'insured_occupation', 'insured_hobbies',\n",
       "       'insured_relationship', 'capital_gains', 'capital_loss',\n",
       "       'incident_date', 'incident_type', 'collision_type', 'incident_severity',\n",
       "       'authorities_contacted', 'incident_state', 'incident_city',\n",
       "       'incident_location', 'incident_hour_of_the_day',\n",
       "       'number_of_vehicles_involved', 'property_damage', 'bodily_injuries',\n",
       "       'witnesses', 'police_report_available', 'total_claim_amount',\n",
       "       'injury_claim', 'property_claim', 'vehicle_claim', 'auto_make',\n",
       "       'auto_model', 'auto_year', 'fraud_reported', 'policy_bind_year',\n",
       "       'policy_bind_month', 'incident_year', 'incident_month'],\n",
       "      dtype='object')"
      ]
     },
     "execution_count": 50,
     "metadata": {},
     "output_type": "execute_result"
    }
   ],
   "source": [
    "df.columns"
   ]
  },
  {
   "cell_type": "markdown",
   "id": "a4af59f5-7284-4c4f-bc9d-53131dab5435",
   "metadata": {},
   "source": [
    "## select relevant columsn"
   ]
  },
  {
   "cell_type": "code",
   "execution_count": 53,
   "id": "dac10075-41c8-4ffb-a660-c9f245cc90af",
   "metadata": {},
   "outputs": [],
   "source": [
    "df_model = df[[\n",
    "    'months_as_customer', 'age', 'policy_state', 'policy_csl', 'policy_deductable',\n",
    "    'policy_annual_premium', 'umbrella_limit', 'insured_sex', 'insured_education_level',\n",
    "    'insured_occupation', 'insured_hobbies', 'insured_relationship', 'capital_gains',\n",
    "    'capital_loss', 'incident_type', 'collision_type', 'incident_severity',\n",
    "    'authorities_contacted', 'incident_state', 'number_of_vehicles_involved',\n",
    "    'property_damage', 'bodily_injuries', 'witnesses', 'police_report_available',\n",
    "    'total_claim_amount', 'injury_claim', 'property_claim', 'vehicle_claim',\n",
    "    'auto_make', 'auto_model', 'auto_year'\n",
    "]]\n",
    "y = df[\"fraud_reported\"].map({\"Y\": 1, \"N\": 0})  # Encode target"
   ]
  },
  {
   "cell_type": "markdown",
   "id": "c6bd9ec9-2a9d-4893-aa5b-2ea3055ca270",
   "metadata": {},
   "source": [
    "## Get dummy data"
   ]
  },
  {
   "cell_type": "code",
   "execution_count": 56,
   "id": "2fb70428-be52-4aad-b3ba-176fb3267266",
   "metadata": {},
   "outputs": [],
   "source": [
    "df_dum = pd.get_dummies(df_model)"
   ]
  },
  {
   "cell_type": "code",
   "execution_count": 58,
   "id": "75132150-fa91-42a9-b20e-25377a287ee6",
   "metadata": {},
   "outputs": [
    {
     "data": {
      "text/plain": [
       "Index(['months_as_customer', 'age', 'policy_deductable',\n",
       "       'policy_annual_premium', 'umbrella_limit', 'capital_gains',\n",
       "       'capital_loss', 'number_of_vehicles_involved', 'bodily_injuries',\n",
       "       'witnesses',\n",
       "       ...\n",
       "       'auto_model_Pathfinder', 'auto_model_RAM', 'auto_model_RSX',\n",
       "       'auto_model_Silverado', 'auto_model_TL', 'auto_model_Tahoe',\n",
       "       'auto_model_Ultima', 'auto_model_Wrangler', 'auto_model_X5',\n",
       "       'auto_model_X6'],\n",
       "      dtype='object', length=153)"
      ]
     },
     "execution_count": 58,
     "metadata": {},
     "output_type": "execute_result"
    }
   ],
   "source": [
    "df_dum.columns"
   ]
  },
  {
   "cell_type": "markdown",
   "id": "f8c89530-c0db-4986-9d4a-12ff527961a7",
   "metadata": {},
   "source": [
    "## Train-test split"
   ]
  },
  {
   "cell_type": "code",
   "execution_count": null,
   "id": "0959e5e7-2ed5-4cea-80d6-744e2f8e4f99",
   "metadata": {},
   "outputs": [],
   "source": [
    "# Train-Test Split\n",
    "X_train, X_test, y_train, y_test = train_test_split(\n",
    "    X, y, test_size=0.2, random_state=42, stratify=y\n",
    ")\n"
   ]
  },
  {
   "cell_type": "code",
   "execution_count": null,
   "id": "2dc9f33d-c4b4-4c77-b12f-73a97caa2cd1",
   "metadata": {},
   "outputs": [],
   "source": []
  },
  {
   "cell_type": "code",
   "execution_count": null,
   "id": "b7f17572-034d-4331-8a95-4dd11e685dad",
   "metadata": {},
   "outputs": [],
   "source": []
  },
  {
   "cell_type": "code",
   "execution_count": null,
   "id": "e3c510e0-2ed9-4ee0-9915-39067dafbb11",
   "metadata": {},
   "outputs": [],
   "source": []
  },
  {
   "cell_type": "code",
   "execution_count": null,
   "id": "7bc55332-fb74-440b-b7f1-7031861f014a",
   "metadata": {},
   "outputs": [],
   "source": []
  },
  {
   "cell_type": "code",
   "execution_count": null,
   "id": "a15f5f3e-6044-4676-bf98-fcf86ba2adc7",
   "metadata": {},
   "outputs": [],
   "source": []
  },
  {
   "cell_type": "code",
   "execution_count": null,
   "id": "2133e544-4a52-4be6-8206-b6543e26a4c0",
   "metadata": {},
   "outputs": [],
   "source": []
  },
  {
   "cell_type": "code",
   "execution_count": 2,
   "id": "f6f12c3d-9074-455c-9915-97bb5706e485",
   "metadata": {},
   "outputs": [],
   "source": [
    "from sklearn.preprocessing import OneHotEncoder\n",
    "from sklearn.compose import ColumnTransformer\n",
    "from sklearn.pipeline import Pipeline\n",
    "from sklearn.preprocessing import StandardScaler\n",
    "\n",
    "# Identify categorical & numerical columns\n",
    "cat_cols = X.select_dtypes(include=[\"object\"]).columns\n",
    "num_cols = X.select_dtypes(include=[\"int64\",\"float64\"]).columns\n",
    "\n",
    "# Preprocessing pipeline\n",
    "preprocessor = ColumnTransformer([\n",
    "    ('num', StandardScaler(), num_cols),\n",
    "    ('cat', OneHotEncoder(handle_unknown='ignore'), cat_cols)\n",
    "])\n"
   ]
  },
  {
   "cell_type": "code",
   "execution_count": 3,
   "id": "8e8e917d-f1e2-4b7a-9a00-bdb8063e54a1",
   "metadata": {},
   "outputs": [
    {
     "name": "stdout",
     "output_type": "stream",
     "text": [
      "              precision    recall  f1-score   support\n",
      "\n",
      "           0       0.88      0.89      0.88       151\n",
      "           1       0.65      0.63      0.64        49\n",
      "\n",
      "    accuracy                           0.82       200\n",
      "   macro avg       0.76      0.76      0.76       200\n",
      "weighted avg       0.82      0.82      0.82       200\n",
      "\n",
      "ROC-AUC: 0.8228138937694284\n"
     ]
    }
   ],
   "source": [
    "from sklearn.linear_model import LogisticRegression\n",
    "from sklearn.metrics import classification_report, confusion_matrix, roc_auc_score\n",
    "\n",
    "log_reg = Pipeline(steps=[\n",
    "    ('preprocessor', preprocessor),\n",
    "    ('classifier', LogisticRegression(max_iter=1000, class_weight='balanced'))\n",
    "])\n",
    "\n",
    "log_reg.fit(X_train, y_train)\n",
    "y_pred = log_reg.predict(X_test)\n",
    "\n",
    "print(classification_report(y_test, y_pred))\n",
    "print(\"ROC-AUC:\", roc_auc_score(y_test, log_reg.predict_proba(X_test)[:,1]))\n"
   ]
  },
  {
   "cell_type": "code",
   "execution_count": 4,
   "id": "660cae43-ed8b-4123-bf35-8e555c5fcae4",
   "metadata": {},
   "outputs": [
    {
     "name": "stdout",
     "output_type": "stream",
     "text": [
      "              precision    recall  f1-score   support\n",
      "\n",
      "           0       0.76      0.96      0.85       151\n",
      "           1       0.40      0.08      0.14        49\n",
      "\n",
      "    accuracy                           0.74       200\n",
      "   macro avg       0.58      0.52      0.49       200\n",
      "weighted avg       0.67      0.74      0.68       200\n",
      "\n",
      "ROC-AUC: 0.8520070279767537\n"
     ]
    }
   ],
   "source": [
    "from sklearn.ensemble import RandomForestClassifier\n",
    "\n",
    "rf_model = Pipeline(steps=[\n",
    "    ('preprocessor', preprocessor),\n",
    "    ('classifier', RandomForestClassifier(n_estimators=200, random_state=42, class_weight='balanced'))\n",
    "])\n",
    "\n",
    "rf_model.fit(X_train, y_train)\n",
    "rf_pred = rf_model.predict(X_test)\n",
    "\n",
    "print(classification_report(y_test, rf_pred))\n",
    "print(\"ROC-AUC:\", roc_auc_score(y_test, rf_model.predict_proba(X_test)[:,1]))\n"
   ]
  },
  {
   "cell_type": "code",
   "execution_count": 5,
   "id": "a023510c-edea-4003-8714-ff56b75cabb9",
   "metadata": {},
   "outputs": [
    {
     "name": "stderr",
     "output_type": "stream",
     "text": [
      "C:\\Users\\gillg\\anaconda3\\envs\\UL\\lib\\site-packages\\sklearn\\utils\\deprecation.py:87: FutureWarning: Function get_feature_names is deprecated; get_feature_names is deprecated in 1.0 and will be removed in 1.2. Please use get_feature_names_out instead.\n",
      "  warnings.warn(msg, category=FutureWarning)\n"
     ]
    },
    {
     "data": {
      "image/png": "[encoded data removed]",
      "text/plain": [
       "<Figure size 1000x600 with 1 Axes>"
      ]
     },
     "metadata": {},
     "output_type": "display_data"
    }
   ],
   "source": [
    "# After fitting RandomForest\n",
    "import matplotlib.pyplot as plt\n",
    "import numpy as np\n",
    "\n",
    "feature_names = (\n",
    "    list(num_cols) + \n",
    "    list(rf_model.named_steps['preprocessor'].transformers_[1][1].get_feature_names(cat_cols))\n",
    ")\n",
    "\n",
    "importances = rf_model.named_steps['classifier'].feature_importances_\n",
    "indices = np.argsort(importances)[::-1]\n",
    "\n",
    "plt.figure(figsize=(10,6))\n",
    "plt.title(\"Feature Importance\")\n",
    "plt.bar(range(10), importances[indices][:10], align=\"center\")\n",
    "plt.xticks(range(10), [feature_names[i] for i in indices[:10]], rotation=45)\n",
    "plt.show()\n",
    "\n"
   ]
  },
  {
   "cell_type": "code",
   "execution_count": 6,
   "id": "84e074a3-9ca7-4f32-b49c-3b8a300b3b2c",
   "metadata": {},
   "outputs": [
    {
     "name": "stdout",
     "output_type": "stream",
     "text": [
      "Requirement already satisfied: imbalanced-learn in c:\\users\\gillg\\anaconda3\\envs\\ul\\lib\\site-packages (0.12.4)\n",
      "Requirement already satisfied: joblib>=1.1.1 in c:\\users\\gillg\\anaconda3\\envs\\ul\\lib\\site-packages (from imbalanced-learn) (1.1.1)\n",
      "Requirement already satisfied: scipy>=1.5.0 in c:\\users\\gillg\\anaconda3\\envs\\ul\\lib\\site-packages (from imbalanced-learn) (1.5.2)\n",
      "Requirement already satisfied: threadpoolctl>=2.0.0 in c:\\users\\gillg\\anaconda3\\envs\\ul\\lib\\site-packages (from imbalanced-learn) (3.1.0)\n",
      "Requirement already satisfied: numpy>=1.17.3 in c:\\users\\gillg\\anaconda3\\envs\\ul\\lib\\site-packages (from imbalanced-learn) (1.21.6)\n",
      "Requirement already satisfied: scikit-learn>=1.0.2 in c:\\users\\gillg\\anaconda3\\envs\\ul\\lib\\site-packages (from imbalanced-learn) (1.0.2)\n",
      "Note: you may need to restart the kernel to use updated packages.\n"
     ]
    }
   ],
   "source": [
    "pip install imbalanced-learn\n"
   ]
  },
  {
   "cell_type": "code",
   "execution_count": null,
   "id": "81411713-2ae8-4d34-a8a5-48aeaadb815c",
   "metadata": {},
   "outputs": [],
   "source": []
  },
  {
   "cell_type": "code",
   "execution_count": 13,
   "id": "14716576-cb33-4f49-8447-a02a4f63b3cb",
   "metadata": {
    "scrolled": true
   },
   "outputs": [
    {
     "ename": "SyntaxError",
     "evalue": "invalid syntax (_metadata_requests.py, line 1512)",
     "output_type": "error",
     "traceback": [
      "Traceback \u001b[1;36m(most recent call last)\u001b[0m:\n",
      "  File \u001b[0;32m\"C:\\Users\\gillg\\anaconda3\\envs\\UL\\lib\\site-packages\\IPython\\core\\interactiveshell.py\"\u001b[0m, line \u001b[0;32m3457\u001b[0m, in \u001b[0;35mrun_code\u001b[0m\n    exec(code_obj, self.user_global_ns, self.user_ns)\n",
      "  File \u001b[0;32m\"<ipython-input-13-70c91906c7a6>\"\u001b[0m, line \u001b[0;32m1\u001b[0m, in \u001b[0;35m<module>\u001b[0m\n    from imblearn.pipeline import Pipeline as ImbPipeline\n",
      "  File \u001b[0;32m\"C:\\Users\\gillg\\anaconda3\\envs\\UL\\lib\\site-packages\\imblearn\\__init__.py\"\u001b[0m, line \u001b[0;32m52\u001b[0m, in \u001b[0;35m<module>\u001b[0m\n    from . import (\n",
      "  File \u001b[0;32m\"C:\\Users\\gillg\\anaconda3\\envs\\UL\\lib\\site-packages\\imblearn\\ensemble\\__init__.py\"\u001b[0m, line \u001b[0;32m6\u001b[0m, in \u001b[0;35m<module>\u001b[0m\n    from ._bagging import BalancedBaggingClassifier\n",
      "  File \u001b[0;32m\"C:\\Users\\gillg\\anaconda3\\envs\\UL\\lib\\site-packages\\imblearn\\ensemble\\_bagging.py\"\u001b[0m, line \u001b[0;32m30\u001b[0m, in \u001b[0;35m<module>\u001b[0m\n    from ..pipeline import Pipeline\n",
      "\u001b[1;36m  File \u001b[1;32m\"C:\\Users\\gillg\\anaconda3\\envs\\UL\\lib\\site-packages\\imblearn\\pipeline.py\"\u001b[1;36m, line \u001b[1;32m24\u001b[1;36m, in \u001b[1;35m<module>\u001b[1;36m\u001b[0m\n\u001b[1;33m    from .utils._metadata_requests import (\u001b[0m\n",
      "\u001b[1;36m  File \u001b[1;32m\"C:\\Users\\gillg\\anaconda3\\envs\\UL\\lib\\site-packages\\imblearn\\utils\\_metadata_requests.py\"\u001b[1;36m, line \u001b[1;32m1512\u001b[0m\n\u001b[1;33m    def process_routing(_obj, _method, /, **kwargs):\u001b[0m\n\u001b[1;37m                                       ^\u001b[0m\n\u001b[1;31mSyntaxError\u001b[0m\u001b[1;31m:\u001b[0m invalid syntax\n"
     ]
    }
   ],
   "source": [
    "from imblearn.pipeline import Pipeline as ImbPipeline\n",
    "from imblearn.over_sampling import SMOTE\n",
    "from sklearn.ensemble import RandomForestClassifier\n",
    "from sklearn.metrics import classification_report, roc_auc_score\n",
    "\n",
    "# SMOTE + Random Forest pipeline\n",
    "rf_smote_pipeline = ImbPipeline(steps=[\n",
    "    ('preprocessor', preprocessor),\n",
    "    ('smote', SMOTE(random_state=42)),\n",
    "    ('classifier', RandomForestClassifier(\n",
    "        n_estimators=300,\n",
    "        max_depth=15,\n",
    "        min_samples_split=5,\n",
    "        min_samples_leaf=2,\n",
    "        class_weight='balanced_subsample',\n",
    "        random_state=42\n",
    "    ))\n",
    "])\n",
    "\n",
    "# Train model\n",
    "rf_smote_pipeline.fit(X_train, y_train)\n",
    "\n",
    "# Predictions\n",
    "rf_smote_pred = rf_smote_pipeline.predict(X_test)\n",
    "\n",
    "# Evaluation\n",
    "print(\"Random Forest with SMOTE\")\n",
    "print(classification_report(y_test, rf_smote_pred))\n",
    "print(\"ROC-AUC:\", roc_auc_score(y_test, rf_smote_pipeline.predict_proba(X_test)[:, 1]))\n"
   ]
  },
  {
   "cell_type": "code",
   "execution_count": null,
   "id": "e16fedc5-35e6-4876-a6f0-b8141236ed70",
   "metadata": {},
   "outputs": [],
   "source": [
    "from sklearn.model_selection import GridSearchCV\n",
    "\n",
    "param_grid_rf = {\n",
    "    'classifier__n_estimators': [100, 200],\n",
    "    'classifier__max_depth': [None, 10, 20],\n",
    "    'classifier__min_samples_split': [2, 5],\n",
    "    'classifier__min_samples_leaf': [1, 2]\n",
    "}\n",
    "\n",
    "grid_rf = GridSearchCV(rf_model, param_grid_rf, scoring='roc_auc', cv=3, n_jobs=-1)\n",
    "grid_rf.fit(X_train, y_train)\n",
    "\n",
    "print(\"Best RF Params:\", grid_rf.best_params_)\n",
    "print(\"Best RF AUC:\", grid_rf.best_score_)\n"
   ]
  },
  {
   "cell_type": "code",
   "execution_count": null,
   "id": "8888e583-80a3-495a-805f-4bf8169cbb23",
   "metadata": {},
   "outputs": [],
   "source": []
  }
 ],
 "metadata": {
  "kernelspec": {
   "display_name": "Python [conda env:UL]",
   "language": "python",
   "name": "conda-env-UL-py"
  },
  "language_info": {
   "codemirror_mode": {
    "name": "ipython",
    "version": 3
   },
   "file_extension": ".py",
   "mimetype": "text/x-python",
   "name": "python",
   "nbconvert_exporter": "python",
   "pygments_lexer": "ipython3",
   "version": "3.7.16"
  }
 },
 "nbformat": 4,
 "nbformat_minor": 5
}
